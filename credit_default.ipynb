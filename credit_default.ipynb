{
 "cells": [
  {
   "cell_type": "markdown",
   "metadata": {},
   "source": [
    "# Predicting Credit Default on Credit Card Dataset"
   ]
  },
  {
   "cell_type": "markdown",
   "metadata": {},
   "source": [
    "---"
   ]
  },
  {
   "cell_type": "code",
   "execution_count": 1,
   "metadata": {},
   "outputs": [
    {
     "name": "stdout",
     "output_type": "stream",
     "text": [
      "Index(['LIMIT_BAL', 'SEX', 'EDUCATION', 'MARRIAGE', 'AGE', 'PAY_1', 'PAY_2',\n",
      "       'PAY_3', 'PAY_4', 'PAY_5', 'PAY_6', 'BILL_AMT1', 'BILL_AMT2',\n",
      "       'BILL_AMT3', 'BILL_AMT4', 'BILL_AMT5', 'BILL_AMT6', 'PAY_AMT1',\n",
      "       'PAY_AMT2', 'PAY_AMT3', 'PAY_AMT4', 'PAY_AMT5', 'PAY_AMT6',\n",
      "       'payment_default'],\n",
      "      dtype='object')\n",
      "(30000, 24)\n"
     ]
    }
   ],
   "source": [
    "import pandas as pd\n",
    "\n",
    "url = 'https://archive.ics.uci.edu/ml/machine-learning-databases/00350/default%20of%20credit%20card%20clients.xls'\n",
    "df = pd.read_excel(url,skiprows=1)\n",
    "\n",
    "# Rename \n",
    "df.rename(columns={'PAY_0':'PAY_1',\n",
    "                  'default payment next month': 'payment_default'},\n",
    "         inplace=True)\n",
    "\n",
    "# drop ID\n",
    "df.drop(['ID'],axis=1,inplace=True)\n",
    "\n",
    "# print columns\n",
    "print(df.columns)\n",
    "\n",
    "# print shape\n",
    "print(df.shape)"
   ]
  },
  {
   "cell_type": "markdown",
   "metadata": {},
   "source": [
    "## Feature Engineering\n",
    "Create additional features and add them to `df` by squaring the following variables  \n",
    "- LIMIT_BAL  \n",
    "- All BILL_AMT variables  \n",
    "- All PAY_AMT variables  "
   ]
  },
  {
   "cell_type": "code",
   "execution_count": 2,
   "metadata": {},
   "outputs": [],
   "source": [
    "# limit bal\n",
    "df['LIMIT_BAL_2'] = df['LIMIT_BAL'] ** 2\n",
    "\n",
    "# bill amt\n",
    "bill_amts = [col for col in df.columns if 'BILL_AMT' in col]\n",
    "bill_2 = df[bill_amts] ** 2\n",
    "bill_2 = bill_2.add_suffix('_2')\n",
    "\n",
    "# pay amt\n",
    "pay_amts = [col for col in df.columns if 'PAY_AMT' in col]\n",
    "pay_2 = df[pay_amts] ** 2\n",
    "pay_2 = pay_2.add_suffix('_2')\n",
    "\n",
    "# merge into df \n",
    "df = pd.concat([df, bill_2, pay_2],axis=1)"
   ]
  },
  {
   "cell_type": "markdown",
   "metadata": {},
   "source": [
    "### Cleaning data and dealing with categorical features"
   ]
  },
  {
   "cell_type": "markdown",
   "metadata": {},
   "source": [
    "Gender variables\n"
   ]
  },
  {
   "cell_type": "code",
   "execution_count": 3,
   "metadata": {},
   "outputs": [
    {
     "name": "stdout",
     "output_type": "stream",
     "text": [
      "2    18112\n",
      "1    11888\n",
      "Name: SEX, dtype: int64 \n",
      "\n"
     ]
    }
   ],
   "source": [
    "print(df.SEX.value_counts(),'\\n')\n",
    "\n",
    "sex = pd.get_dummies(df.SEX).rename(columns={1:'SEX_MALE', 2:'SEX_FEMALE'})\n",
    "df.drop('SEX',axis=1, inplace=True)\n",
    "df = pd.concat([df,sex],axis=1)"
   ]
  },
  {
   "cell_type": "markdown",
   "metadata": {},
   "source": [
    "In `pd.get_dummies`, two new columns were created by way of one-hot encoding. One for `1` (male) from the `SEX` column, another for `2` (female). This was stored into a new dataframe called `sex`. The column names were also renamed into `'SEX_MALE'` and `'SEX_FEMALE'`. Afterwhich, the original `SEX` column was removed. Lastly, the original dataframe and the sex dataframe were merged."
   ]
  },
  {
   "cell_type": "markdown",
   "metadata": {},
   "source": [
    "Look into `MARRIAGE` variable"
   ]
  },
  {
   "cell_type": "code",
   "execution_count": 4,
   "metadata": {},
   "outputs": [
    {
     "name": "stdout",
     "output_type": "stream",
     "text": [
      "2    15964\n",
      "1    13659\n",
      "3      323\n",
      "0       54\n",
      "Name: MARRIAGE, dtype: int64\n"
     ]
    }
   ],
   "source": [
    "print(df.MARRIAGE.value_counts())"
   ]
  },
  {
   "cell_type": "code",
   "execution_count": 5,
   "metadata": {},
   "outputs": [
    {
     "name": "stdout",
     "output_type": "stream",
     "text": [
      "2    53.21\n",
      "1    45.53\n",
      "3     1.08\n",
      "0     0.18\n",
      "Name: MARRIAGE, dtype: float64\n"
     ]
    }
   ],
   "source": [
    "print(df.MARRIAGE.value_counts(normalize=True).round(4)*100)"
   ]
  },
  {
   "cell_type": "markdown",
   "metadata": {},
   "source": [
    "Based from the UCI Website, these are what the numbers represent:\n",
    "1 = married; 2 = single; 3 = others\n",
    "\n",
    "Most of the data mostly consist of either married or single people. 1% are categorized as others, while a negligible percentage are listed as 0.\n",
    "\n",
    "There are, however, no information for what `0` represents. This may mean they did not fill out their marriage status. Most of them are female."
   ]
  },
  {
   "cell_type": "code",
   "execution_count": 6,
   "metadata": {},
   "outputs": [],
   "source": [
    "df = df[df.MARRIAGE!=0]\n",
    "marriage = pd.get_dummies(df.MARRIAGE).rename(columns={1:'MARRIAGE_MARRIED',\n",
    "                                                       2:'MARRIAGE_SINGLE',\n",
    "                                                       3:'MARRIAGE_OTHER'})\n",
    "df = pd.concat([df.drop('MARRIAGE',axis=1),marriage], axis=1)"
   ]
  },
  {
   "cell_type": "markdown",
   "metadata": {},
   "source": [
    "I removed the ones listed as 0 for the following reasons:\n",
    "- Imputing might distort the information\n",
    "- It can be hard to predict whether someone is married or single\n",
    "- There are only a handful of entries listed as `0`\n",
    "\n",
    "However, in other cases, it can also be useful to try and predict the `MARRIAGE` column. Non-zeros as training data, zeros as the data to be predicted. For this task, I have opted to remove them for simplicity.\n",
    "\n",
    "After cleaning up the `MARRIAGE` column, the process is the same with Q1. The orginal `MARRIAGE` column is dropped, I then used `.get_dummies` on the `MARRIAGE` column to one-hot encode them, then renamed the columns, and put them together with the whole dataframe.\n"
   ]
  },
  {
   "cell_type": "markdown",
   "metadata": {},
   "source": [
    "Convert values {0, 4, 5, 6} into the value 4 in the column `EDUCATION`"
   ]
  },
  {
   "cell_type": "code",
   "execution_count": 7,
   "metadata": {},
   "outputs": [],
   "source": [
    "df.EDUCATION.replace([0, 4, 5, 6], 4 , inplace=True)"
   ]
  },
  {
   "cell_type": "markdown",
   "metadata": {},
   "source": [
    "---\n",
    "\n",
    "#### Preparing X and y arrays"
   ]
  },
  {
   "cell_type": "markdown",
   "metadata": {},
   "source": [
    "Create `y` from 12,500 consecutive observations starting from observation 1,000, i.e. observation 1,000 is the starting point, of 'payment_default' column from df. Similarly, create `X`  using 12,500 corresponding observatations of all the remaining features in `df` (2.5 marks)"
   ]
  },
  {
   "cell_type": "code",
   "execution_count": 8,
   "metadata": {},
   "outputs": [],
   "source": [
    "y = df.payment_default[1000:13500]\n",
    "X = df[1000:13500].drop('payment_default',axis=1)"
   ]
  },
  {
   "cell_type": "markdown",
   "metadata": {},
   "source": [
    "#### 70-30 split"
   ]
  },
  {
   "cell_type": "code",
   "execution_count": 9,
   "metadata": {},
   "outputs": [],
   "source": [
    "from sklearn.model_selection import train_test_split\n",
    "\n",
    "X_train, X_test, y_train, y_test = train_test_split(X, y, random_state=2, stratify=y, test_size=.3)"
   ]
  },
  {
   "cell_type": "markdown",
   "metadata": {},
   "source": [
    "---\n",
    "\n",
    "### Hyperparameter tuning pipeline\n",
    "- PCA\n",
    "- SVC"
   ]
  },
  {
   "cell_type": "code",
   "execution_count": 10,
   "metadata": {},
   "outputs": [],
   "source": [
    "from sklearn.pipeline import make_pipeline\n",
    "from sklearn.preprocessing import StandardScaler\n",
    "from sklearn.decomposition import PCA\n",
    "from sklearn.svm import SVC\n",
    "\n",
    "pipe_svc = make_pipeline(StandardScaler(),PCA(random_state=1),SVC(random_state=1))"
   ]
  },
  {
   "cell_type": "markdown",
   "metadata": {},
   "source": [
    "In pipelines, parameters has to be accessed differently as seen below:"
   ]
  },
  {
   "cell_type": "code",
   "execution_count": 11,
   "metadata": {},
   "outputs": [
    {
     "data": {
      "text/plain": [
       "GridSearchCV(cv=10,\n",
       "             estimator=Pipeline(steps=[('standardscaler', StandardScaler()),\n",
       "                                       ('pca', PCA(random_state=1)),\n",
       "                                       ('svc', SVC(random_state=1))]),\n",
       "             n_jobs=-1,\n",
       "             param_grid=[{'pca__n_components': [1, 4, 9],\n",
       "                          'svc__C': [0.1, 1, 10],\n",
       "                          'svc__kernel': ['linear', 'sigmoid', 'rbf']}],\n",
       "             scoring='accuracy')"
      ]
     },
     "execution_count": 11,
     "metadata": {},
     "output_type": "execute_result"
    }
   ],
   "source": [
    "from sklearn.model_selection import GridSearchCV\n",
    "\n",
    "param_range = [0.1, 1, 10]\n",
    "\n",
    "params = [{'svc__C': param_range,\n",
    "           'svc__kernel': ['linear','sigmoid','rbf'],\n",
    "           'pca__n_components':[1,4,9]}]\n",
    "          \n",
    "gs = GridSearchCV(pipe_svc, params, scoring='accuracy', refit=True,\n",
    "                    cv=10, n_jobs=-1)\n",
    "          \n",
    "gs.fit(X_train, y_train)"
   ]
  },
  {
   "cell_type": "markdown",
   "metadata": {},
   "source": [
    "Get best parameters\n"
   ]
  },
  {
   "cell_type": "code",
   "execution_count": 12,
   "metadata": {},
   "outputs": [
    {
     "name": "stdout",
     "output_type": "stream",
     "text": [
      "Cross validation: 0.795\n",
      "Train accuracy: 0.799\n",
      "Test accuracy: 0.789\n"
     ]
    }
   ],
   "source": [
    "best_classifier = gs.best_estimator_\n",
    "print('Cross validation:',gs.best_score_.round(3))\n",
    "print(f'Train accuracy: {best_classifier.score(X_train, y_train):.3f}')\n",
    "print(f'Test accuracy: {best_classifier.score(X_test, y_test):.3f}')"
   ]
  },
  {
   "cell_type": "markdown",
   "metadata": {},
   "source": [
    "<hr style=\"width:35%;margin-left:0;\"> \n",
    "\n",
    "#### Confusion Matrix  "
   ]
  },
  {
   "cell_type": "code",
   "execution_count": 13,
   "metadata": {},
   "outputs": [
    {
     "name": "stdout",
     "output_type": "stream",
     "text": [
      "[[2802   99]\n",
      " [ 692  157]]\n"
     ]
    }
   ],
   "source": [
    "from sklearn.metrics import confusion_matrix\n",
    "\n",
    "y_pred = best_classifier.predict(X_test)\n",
    "cm = confusion_matrix(y_test, y_pred)\n",
    "print(cm)"
   ]
  },
  {
   "cell_type": "markdown",
   "metadata": {},
   "source": [
    "Checking the True Positive Rate, False Positive Rate and Precision"
   ]
  },
  {
   "cell_type": "code",
   "execution_count": 14,
   "metadata": {},
   "outputs": [
    {
     "name": "stderr",
     "output_type": "stream",
     "text": [
      "/opt/anaconda3/lib/python3.8/site-packages/sklearn/utils/deprecation.py:87: FutureWarning: Function plot_confusion_matrix is deprecated; Function `plot_confusion_matrix` is deprecated in 1.0 and will be removed in 1.2. Use one of the class methods: ConfusionMatrixDisplay.from_predictions or ConfusionMatrixDisplay.from_estimator.\n",
      "  warnings.warn(msg, category=FutureWarning)\n"
     ]
    },
    {
     "data": {
      "image/png": "[encoded data removed]",
      "text/plain": [
       "<Figure size 432x288 with 2 Axes>"
      ]
     },
     "metadata": {
      "needs_background": "light"
     },
     "output_type": "display_data"
    }
   ],
   "source": [
    "from sklearn.metrics import plot_confusion_matrix\n",
    "import matplotlib.pyplot as plt\n",
    "\n",
    "plot_cm = plot_confusion_matrix(best_classifier, X_test, y_test)\n",
    "plt.show()"
   ]
  },
  {
   "cell_type": "code",
   "execution_count": 15,
   "metadata": {},
   "outputs": [
    {
     "name": "stdout",
     "output_type": "stream",
     "text": [
      "True Positive Rate:\n"
     ]
    },
    {
     "data": {
      "text/plain": [
       "0.18492343934040048"
      ]
     },
     "execution_count": 15,
     "metadata": {},
     "output_type": "execute_result"
    }
   ],
   "source": [
    "print('True Positive Rate:')\n",
    "(157/(157+692))"
   ]
  },
  {
   "cell_type": "code",
   "execution_count": 16,
   "metadata": {},
   "outputs": [
    {
     "name": "stdout",
     "output_type": "stream",
     "text": [
      "False Positive Rate:\n"
     ]
    },
    {
     "data": {
      "text/plain": [
       "0.03412616339193381"
      ]
     },
     "execution_count": 16,
     "metadata": {},
     "output_type": "execute_result"
    }
   ],
   "source": [
    "print('False Positive Rate:')\n",
    "(99/(99+2802))"
   ]
  },
  {
   "cell_type": "code",
   "execution_count": 17,
   "metadata": {},
   "outputs": [
    {
     "name": "stdout",
     "output_type": "stream",
     "text": [
      "Precision:\n"
     ]
    },
    {
     "data": {
      "text/plain": [
       "0.61328125"
      ]
     },
     "execution_count": 17,
     "metadata": {},
     "output_type": "execute_result"
    }
   ],
   "source": [
    "print('Precision:')\n",
    "(157/(157+99))"
   ]
  },
  {
   "cell_type": "markdown",
   "metadata": {},
   "source": [
    "# Observations and comments"
   ]
  },
  {
   "cell_type": "code",
   "execution_count": 18,
   "metadata": {},
   "outputs": [
    {
     "data": {
      "text/plain": [
       "0    23315\n",
       "1     6631\n",
       "Name: payment_default, dtype: int64"
      ]
     },
     "execution_count": 18,
     "metadata": {},
     "output_type": "execute_result"
    }
   ],
   "source": [
    "df.payment_default.value_counts()"
   ]
  },
  {
   "cell_type": "markdown",
   "metadata": {},
   "source": [
    "The model's true positive rate is low, which means that in most cases, the model might predict that a person will not default but will actually default. This is a great risk for the company, as a signficant exposure might force the company to go bankrupt. If there are too much people that the company lends money to but defaults, then the company will lose a lot of money.\n",
    "\n",
    "One remedy for the model might be to add more samples where a person defaults. Currently, ~77% of the data (23,315) are labelled as did not default on payment, while only ~23% (6,631) are labelled as defaulted on payment. Ideally, the mix should be almost 50-50. In this case, it would be ideal to add ~17,000 more data that are labelled as defaulted on payments.\n",
    "\n",
    "On the other hand, I have tried to reduce the data to have equal splits of default and non-default (see code below). This has resulted in a much better true positive rate (TPR) or recall despite a lower accuracy. In this case, it improved from a recall rate of 18.5% to 53.8% just by dropping some data to make the model have equal parts of default and non-defaults.\n",
    "\n",
    "In conclusion, accuracy may not always be the best metric to optimise. In cases like the credit card default data, recall score will be more important for the business as a low recall score means the model is prone to not being able to predict that a person will default, and this will have signficant impact on the business."
   ]
  },
  {
   "cell_type": "markdown",
   "metadata": {},
   "source": [
    "##### Make new df where split of y labels are equal"
   ]
  },
  {
   "cell_type": "code",
   "execution_count": 19,
   "metadata": {},
   "outputs": [],
   "source": [
    "df0 = df[df['payment_default']==0].sample(6631)\n",
    "df1 = df[df['payment_default']==1]\n",
    "new_df = pd.concat([df0,df1])\n",
    "\n",
    "y = new_df.payment_default\n",
    "X = new_df.drop('payment_default',axis=1)"
   ]
  },
  {
   "cell_type": "markdown",
   "metadata": {},
   "source": [
    "##### Data split, grid search"
   ]
  },
  {
   "cell_type": "code",
   "execution_count": 20,
   "metadata": {},
   "outputs": [
    {
     "data": {
      "text/plain": [
       "GridSearchCV(cv=10,\n",
       "             estimator=Pipeline(steps=[('standardscaler', StandardScaler()),\n",
       "                                       ('pca', PCA(random_state=1)),\n",
       "                                       ('svc', SVC(random_state=1))]),\n",
       "             n_jobs=-1,\n",
       "             param_grid=[{'pca__n_components': [1, 4, 9],\n",
       "                          'svc__C': [0.1, 1, 10],\n",
       "                          'svc__kernel': ['linear', 'sigmoid', 'rbf']}],\n",
       "             scoring='accuracy')"
      ]
     },
     "execution_count": 20,
     "metadata": {},
     "output_type": "execute_result"
    }
   ],
   "source": [
    "X_train, X_test, y_train, y_test = train_test_split(X, y, random_state=2, stratify=y, test_size=.3)\n",
    "\n",
    "\n",
    "gs2 = GridSearchCV(pipe_svc, params, scoring='accuracy', refit=True,\n",
    "                    cv=10, n_jobs=-1)\n",
    "          \n",
    "gs2.fit(X_train, y_train)"
   ]
  },
  {
   "cell_type": "markdown",
   "metadata": {},
   "source": [
    "##### Confusion matrix and score calculations"
   ]
  },
  {
   "cell_type": "code",
   "execution_count": 21,
   "metadata": {},
   "outputs": [
    {
     "name": "stderr",
     "output_type": "stream",
     "text": [
      "/opt/anaconda3/lib/python3.8/site-packages/sklearn/utils/deprecation.py:87: FutureWarning: Function plot_confusion_matrix is deprecated; Function `plot_confusion_matrix` is deprecated in 1.0 and will be removed in 1.2. Use one of the class methods: ConfusionMatrixDisplay.from_predictions or ConfusionMatrixDisplay.from_estimator.\n",
      "  warnings.warn(msg, category=FutureWarning)\n"
     ]
    },
    {
     "data": {
      "text/plain": [
       "<sklearn.metrics._plot.confusion_matrix.ConfusionMatrixDisplay at 0x7fef1bce2ca0>"
      ]
     },
     "execution_count": 21,
     "metadata": {},
     "output_type": "execute_result"
    },
    {
     "data": {
      "image/png": "[encoded data removed]",
      "text/plain": [
       "<Figure size 432x288 with 2 Axes>"
      ]
     },
     "metadata": {
      "needs_background": "light"
     },
     "output_type": "display_data"
    }
   ],
   "source": [
    "best_clf_2 = gs2.best_estimator_\n",
    "plot_confusion_matrix(best_clf_2, X_test, y_test)"
   ]
  },
  {
   "cell_type": "code",
   "execution_count": 23,
   "metadata": {},
   "outputs": [
    {
     "name": "stdout",
     "output_type": "stream",
     "text": [
      "True Positive Rate (Recall):\n"
     ]
    },
    {
     "data": {
      "text/plain": [
       "0.5375"
      ]
     },
     "execution_count": 23,
     "metadata": {},
     "output_type": "execute_result"
    }
   ],
   "source": [
    "from sklearn.metrics import recall_score\n",
    "print('True Positive Rate (Recall):')\n",
    "recall_score(y_test,best_clf_2.predict(X_test)).round(4)"
   ]
  },
  {
   "cell_type": "code",
   "execution_count": 24,
   "metadata": {},
   "outputs": [
    {
     "name": "stdout",
     "output_type": "stream",
     "text": [
      "False Positive Rate:\n"
     ]
    },
    {
     "data": {
      "text/plain": [
       "0.2422110552763819"
      ]
     },
     "execution_count": 24,
     "metadata": {},
     "output_type": "execute_result"
    }
   ],
   "source": [
    "print('False Positive Rate:')\n",
    "(482/(482+1508))"
   ]
  },
  {
   "cell_type": "code",
   "execution_count": 25,
   "metadata": {},
   "outputs": [
    {
     "name": "stdout",
     "output_type": "stream",
     "text": [
      "Precision:\n"
     ]
    },
    {
     "data": {
      "text/plain": [
       "0.7011779293242405"
      ]
     },
     "execution_count": 25,
     "metadata": {},
     "output_type": "execute_result"
    }
   ],
   "source": [
    "print('Precision:')\n",
    "(1131/(1131+482))"
   ]
  },
  {
   "cell_type": "code",
   "execution_count": 26,
   "metadata": {},
   "outputs": [
    {
     "name": "stdout",
     "output_type": "stream",
     "text": [
      "Accuracy score:\n",
      " 0.6715\n"
     ]
    }
   ],
   "source": [
    "print('Accuracy score:\\n', best_clf_2.score(X_test, y_test).round(4))"
   ]
  }
 ],
 "metadata": {
  "kernelspec": {
   "display_name": "Python 3 (ipykernel)",
   "language": "python",
   "name": "python3"
  },
  "language_info": {
   "codemirror_mode": {
    "name": "ipython",
    "version": 3
   },
   "file_extension": ".py",
   "mimetype": "text/x-python",
   "name": "python",
   "nbconvert_exporter": "python",
   "pygments_lexer": "ipython3",
   "version": "3.9.12"
  },
  "toc-autonumbering": false,
  "toc-showcode": false,
  "toc-showmarkdowntxt": true
 },
 "nbformat": 4,
 "nbformat_minor": 4
}
